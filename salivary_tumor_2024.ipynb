{
 "cells": [
  {
   "cell_type": "code",
   "execution_count": 35,
   "id": "initial_id",
   "metadata": {
    "collapsed": true,
    "ExecuteTime": {
     "end_time": "2024-08-29T02:59:31.480948Z",
     "start_time": "2024-08-29T02:59:31.478339Z"
    }
   },
   "outputs": [],
   "source": [
    "#\n",
    "import pandas as pd\n",
    "import numpy as np\n",
    "\n",
    "import matplotlib.pyplot as plt\n",
    "import seaborn as sns"
   ]
  },
  {
   "cell_type": "code",
   "execution_count": 34,
   "outputs": [],
   "source": [
    "# Load Major Salivary Tumor Listing data\n",
    "salivary_df = pd.read_csv(\"MajorSalivaryListing.csv\",low_memory=False)"
   ],
   "metadata": {
    "collapsed": false,
    "ExecuteTime": {
     "end_time": "2024-08-29T02:59:30.783186Z",
     "start_time": "2024-08-29T02:59:30.482417Z"
    }
   },
   "id": "5622729675ad8cd"
  },
  {
   "cell_type": "code",
   "execution_count": 33,
   "outputs": [
    {
     "data": {
      "text/plain": "  Survival months  RX Summ--Surg Prim Site (1998+)  \\\n0              14                               38   \n1              86                               30   \n2             188                               27   \n3              25                                0   \n4              30                               42   \n\n  Age recode with <1 year olds Race recode (W, B, AI, API)  \\\n0                  75-79 years                       White   \n1                    85+ years                       White   \n2                  70-74 years   Asian or Pacific Islander   \n3                  65-69 years                       White   \n4                  55-59 years   Asian or Pacific Islander   \n\n  Reason no cancer-directed surgery       RX Summ--Scope Reg LN Sur (2003+)  \\\n0                 Surgery performed  4 or more regional lymph nodes removed   \n1                 Surgery performed                                Blank(s)   \n2                 Surgery performed                                     NaN   \n3                   Not recommended                                     NaN   \n4                 Surgery performed  4 or more regional lymph nodes removed   \n\n  First malignant primary indicator  Histologic Type ICD-O-3  \\\n0                                No                     8041   \n1                                No                     8071   \n2                                No                     9699   \n3                                No                     8200   \n4                               Yes                     8502   \n\n  Site recode ICD-O-3/WHO 2008        Histology recode - broad groupings  ...  \\\n0               Salivary Gland      8010-8049: epithelial neoplasms, NOS  ...   \n1               Salivary Gland        8050-8089: squamous cell neoplasms  ...   \n2             NHL - Extranodal  9670-9699: nhl - mature b-cell lymphomas  ...   \n3               Salivary Gland   8140-8389: adenomas and adenocarcinomas  ...   \n4               Salivary Gland   8500-8549: ductal and lobular neoplasms  ...   \n\n   LN Head and Neck Levels VI-VII Recode (2010+)  \\\n0                                       Blank(s)   \n1                                       Blank(s)   \n2                                       Blank(s)   \n3                                       Blank(s)   \n4                                       Blank(s)   \n\n   LN Head and Neck Other Recode (2010+) Lymph Node Size Recode (2010+)  \\\n0                               Blank(s)     No involved regional nodes   \n1                               Blank(s)                       Blank(s)   \n2                               Blank(s)                       Blank(s)   \n3                               Blank(s)     No involved regional nodes   \n4                               Blank(s)     No involved regional nodes   \n\n  LN Positive Axillary Level I-II Recode (2010+)  \\\n0                                       Blank(s)   \n1                                       Blank(s)   \n2                                       Blank(s)   \n3                                       Blank(s)   \n4                                       Blank(s)   \n\n  Major Vein Involvement Recode (2010+)  \\\n0                              Blank(s)   \n1                              Blank(s)   \n2                              Blank(s)   \n3                              Blank(s)   \n4                              Blank(s)   \n\n  Measured Basal Diameter Recode (2010+) Measured Thickness Recode (2010+)  \\\n0                               Blank(s)                          Blank(s)   \n1                               Blank(s)                          Blank(s)   \n2                               Blank(s)                          Blank(s)   \n3                               Blank(s)                          Blank(s)   \n4                               Blank(s)                          Blank(s)   \n\n  Mitotic Rate Melanoma Recode (2010+) Primary by international rules  \\\n0                             Blank(s)                            Yes   \n1                             Blank(s)                            Yes   \n2                             Blank(s)                            Yes   \n3                             Blank(s)                            Yes   \n4                             Blank(s)                            Yes   \n\n  SEER registry (with CA and GA as whole states)  \n0                                     California  \n1                                     California  \n2                                     California  \n3                                     California  \n4                                     California  \n\n[5 rows x 85 columns]",
      "text/html": "<div>\n<style scoped>\n    .dataframe tbody tr th:only-of-type {\n        vertical-align: middle;\n    }\n\n    .dataframe tbody tr th {\n        vertical-align: top;\n    }\n\n    .dataframe thead th {\n        text-align: right;\n    }\n</style>\n<table border=\"1\" class=\"dataframe\">\n  <thead>\n    <tr style=\"text-align: right;\">\n      <th></th>\n      <th>Survival months</th>\n      <th>RX Summ--Surg Prim Site (1998+)</th>\n      <th>Age recode with &lt;1 year olds</th>\n      <th>Race recode (W, B, AI, API)</th>\n      <th>Reason no cancer-directed surgery</th>\n      <th>RX Summ--Scope Reg LN Sur (2003+)</th>\n      <th>First malignant primary indicator</th>\n      <th>Histologic Type ICD-O-3</th>\n      <th>Site recode ICD-O-3/WHO 2008</th>\n      <th>Histology recode - broad groupings</th>\n      <th>...</th>\n      <th>LN Head and Neck Levels VI-VII Recode (2010+)</th>\n      <th>LN Head and Neck Other Recode (2010+)</th>\n      <th>Lymph Node Size Recode (2010+)</th>\n      <th>LN Positive Axillary Level I-II Recode (2010+)</th>\n      <th>Major Vein Involvement Recode (2010+)</th>\n      <th>Measured Basal Diameter Recode (2010+)</th>\n      <th>Measured Thickness Recode (2010+)</th>\n      <th>Mitotic Rate Melanoma Recode (2010+)</th>\n      <th>Primary by international rules</th>\n      <th>SEER registry (with CA and GA as whole states)</th>\n    </tr>\n  </thead>\n  <tbody>\n    <tr>\n      <th>0</th>\n      <td>14</td>\n      <td>38</td>\n      <td>75-79 years</td>\n      <td>White</td>\n      <td>Surgery performed</td>\n      <td>4 or more regional lymph nodes removed</td>\n      <td>No</td>\n      <td>8041</td>\n      <td>Salivary Gland</td>\n      <td>8010-8049: epithelial neoplasms, NOS</td>\n      <td>...</td>\n      <td>Blank(s)</td>\n      <td>Blank(s)</td>\n      <td>No involved regional nodes</td>\n      <td>Blank(s)</td>\n      <td>Blank(s)</td>\n      <td>Blank(s)</td>\n      <td>Blank(s)</td>\n      <td>Blank(s)</td>\n      <td>Yes</td>\n      <td>California</td>\n    </tr>\n    <tr>\n      <th>1</th>\n      <td>86</td>\n      <td>30</td>\n      <td>85+ years</td>\n      <td>White</td>\n      <td>Surgery performed</td>\n      <td>Blank(s)</td>\n      <td>No</td>\n      <td>8071</td>\n      <td>Salivary Gland</td>\n      <td>8050-8089: squamous cell neoplasms</td>\n      <td>...</td>\n      <td>Blank(s)</td>\n      <td>Blank(s)</td>\n      <td>Blank(s)</td>\n      <td>Blank(s)</td>\n      <td>Blank(s)</td>\n      <td>Blank(s)</td>\n      <td>Blank(s)</td>\n      <td>Blank(s)</td>\n      <td>Yes</td>\n      <td>California</td>\n    </tr>\n    <tr>\n      <th>2</th>\n      <td>188</td>\n      <td>27</td>\n      <td>70-74 years</td>\n      <td>Asian or Pacific Islander</td>\n      <td>Surgery performed</td>\n      <td>NaN</td>\n      <td>No</td>\n      <td>9699</td>\n      <td>NHL - Extranodal</td>\n      <td>9670-9699: nhl - mature b-cell lymphomas</td>\n      <td>...</td>\n      <td>Blank(s)</td>\n      <td>Blank(s)</td>\n      <td>Blank(s)</td>\n      <td>Blank(s)</td>\n      <td>Blank(s)</td>\n      <td>Blank(s)</td>\n      <td>Blank(s)</td>\n      <td>Blank(s)</td>\n      <td>Yes</td>\n      <td>California</td>\n    </tr>\n    <tr>\n      <th>3</th>\n      <td>25</td>\n      <td>0</td>\n      <td>65-69 years</td>\n      <td>White</td>\n      <td>Not recommended</td>\n      <td>NaN</td>\n      <td>No</td>\n      <td>8200</td>\n      <td>Salivary Gland</td>\n      <td>8140-8389: adenomas and adenocarcinomas</td>\n      <td>...</td>\n      <td>Blank(s)</td>\n      <td>Blank(s)</td>\n      <td>No involved regional nodes</td>\n      <td>Blank(s)</td>\n      <td>Blank(s)</td>\n      <td>Blank(s)</td>\n      <td>Blank(s)</td>\n      <td>Blank(s)</td>\n      <td>Yes</td>\n      <td>California</td>\n    </tr>\n    <tr>\n      <th>4</th>\n      <td>30</td>\n      <td>42</td>\n      <td>55-59 years</td>\n      <td>Asian or Pacific Islander</td>\n      <td>Surgery performed</td>\n      <td>4 or more regional lymph nodes removed</td>\n      <td>Yes</td>\n      <td>8502</td>\n      <td>Salivary Gland</td>\n      <td>8500-8549: ductal and lobular neoplasms</td>\n      <td>...</td>\n      <td>Blank(s)</td>\n      <td>Blank(s)</td>\n      <td>No involved regional nodes</td>\n      <td>Blank(s)</td>\n      <td>Blank(s)</td>\n      <td>Blank(s)</td>\n      <td>Blank(s)</td>\n      <td>Blank(s)</td>\n      <td>Yes</td>\n      <td>California</td>\n    </tr>\n  </tbody>\n</table>\n<p>5 rows × 85 columns</p>\n</div>"
     },
     "metadata": {},
     "output_type": "display_data"
    },
    {
     "name": "stdout",
     "output_type": "stream",
     "text": [
      "<class 'pandas.core.frame.DataFrame'>\n",
      "RangeIndex: 28030 entries, 0 to 28029\n",
      "Data columns (total 85 columns):\n",
      " #   Column                                                   Non-Null Count  Dtype \n",
      "---  ------                                                   --------------  ----- \n",
      " 0   Survival months                                          28030 non-null  object\n",
      " 1   RX Summ--Surg Prim Site (1998+)                          28030 non-null  int64 \n",
      " 2   Age recode with <1 year olds                             28030 non-null  object\n",
      " 3   Race recode (W, B, AI, API)                              28030 non-null  object\n",
      " 4   Reason no cancer-directed surgery                        28030 non-null  object\n",
      " 5   RX Summ--Scope Reg LN Sur (2003+)                        17943 non-null  object\n",
      " 6   First malignant primary indicator                        28030 non-null  object\n",
      " 7   Histologic Type ICD-O-3                                  28030 non-null  int64 \n",
      " 8   Site recode ICD-O-3/WHO 2008                             28030 non-null  object\n",
      " 9   Histology recode - broad groupings                       28030 non-null  object\n",
      " 10  Year of diagnosis (00-03, 04-18 by 5)                    28030 non-null  int64 \n",
      " 11  Patient ID                                               28030 non-null  int64 \n",
      " 12  EOD 10 - extent (1988-2003)                              28030 non-null  object\n",
      " 13  EOD 10 - nodes (1988-2003)                               28030 non-null  object\n",
      " 14  EOD 10 - size (1988-2003)                                28030 non-null  object\n",
      " 15  Grade Clinical (2018+)                                   28030 non-null  object\n",
      " 16  Grade Pathological (2018+)                               28030 non-null  object\n",
      " 17  Radiation recode                                         28030 non-null  object\n",
      " 18  Chemotherapy recode (yes, no/unk)                        28030 non-null  object\n",
      " 19  RX Summ--Surg/Rad Seq                                    28030 non-null  object\n",
      " 20  B Symptoms Recode (2010+)                                28030 non-null  object\n",
      " 21  SEER Combined Mets at DX-bone (2010+)                    26891 non-null  object\n",
      " 22  SEER Combined Mets at DX-brain (2010+)                   26891 non-null  object\n",
      " 23  SEER Combined Mets at DX-liver (2010+)                   26889 non-null  object\n",
      " 24  SEER Combined Mets at DX-lung (2010+)                    26891 non-null  object\n",
      " 25  Mets at DX-Distant LN (2016+)                            28030 non-null  object\n",
      " 26  Mets at DX-Other (2016+)                                 28030 non-null  object\n",
      " 27  Regional nodes examined (1988+)                          28030 non-null  int64 \n",
      " 28  Regional nodes positive (1988+)                          28030 non-null  int64 \n",
      " 29  Tumor Size Summary (2016+)                               28030 non-null  object\n",
      " 30  CS tumor size (2004-2015)                                28030 non-null  object\n",
      " 31  CS extension (2004-2015)                                 28030 non-null  object\n",
      " 32  CS mets at dx (2004-2015)                                28030 non-null  object\n",
      " 33  CS Tumor Size/Ext Eval (2004-2015)                       28030 non-null  object\n",
      " 34  CS Reg Node Eval (2004-2015)                             28030 non-null  object\n",
      " 35  CS Mets Eval (2004-2015)                                 28030 non-null  object\n",
      " 36  SEER cause-specific death classification                 28030 non-null  object\n",
      " 37  SEER other cause of death classification                 28030 non-null  object\n",
      " 38  COD to site rec KM                                       28030 non-null  object\n",
      " 39  Survival months flag                                     28030 non-null  object\n",
      " 40  Sex                                                      28030 non-null  object\n",
      " 41  Behavior code ICD-O-3                                    28030 non-null  object\n",
      " 42  AYA site recode 2020 Revision                            28030 non-null  object\n",
      " 43  Primary Site                                             28030 non-null  int64 \n",
      " 44  Laterality                                               28030 non-null  object\n",
      " 45  Diagnostic Confirmation                                  28030 non-null  object\n",
      " 46  Combined Summary Stage (2004+)                           28030 non-null  object\n",
      " 47  Summary stage 2000 (1998-2017)                           28030 non-null  object\n",
      " 48  CEA Pretreatment Interpretation Recode (2010+)           28030 non-null  object\n",
      " 49  Breslow Thickness Recode (2010+)                         28030 non-null  object\n",
      " 50  LDH Pretreatment Level Recode (2010+)                    28030 non-null  object\n",
      " 51  Number of Examined Pelvic Nodes Recode (2010+)           28030 non-null  object\n",
      " 52  Number of Positive Pelvic Nodes Recode (2010+)           28030 non-null  object\n",
      " 53  Perineural Invasion Recode (2010+)                       28030 non-null  object\n",
      " 54  Ulceration Recode (2010+)                                28030 non-null  object\n",
      " 55  CS lymph nodes (2004-2015)                               28030 non-null  object\n",
      " 56  CS site-specific factor 3 (2004-2017 varying by schema)  28030 non-null  object\n",
      " 57  COD to site recode                                       28030 non-null  object\n",
      " 58  Total number of in situ/malignant tumors for patient     28030 non-null  object\n",
      " 59  Total number of benign/borderline tumors for patient     28030 non-null  int64 \n",
      " 60  Marital status at diagnosis                              28030 non-null  object\n",
      " 61  Primary Site - labeled                                   28030 non-null  object\n",
      " 62  Grade Recode (thru 2017)                                 28030 non-null  object\n",
      " 63  Derived Summary Grade 2018 (2018+)                       28030 non-null  object\n",
      " 64  AJCC ID (2018+)                                          28030 non-null  object\n",
      " 65  SEER Combined Summary Stage 2000 (2004-2017)             28030 non-null  object\n",
      " 66  SEER historic stage A (1973-2015)                        28030 non-null  object\n",
      " 67  Derived EOD 2018 Stage Group (2018+)                     28030 non-null  object\n",
      " 68  RX Summ--Surg Oth Reg/Dis (2003+)                        28030 non-null  object\n",
      " 69  Scope of reg lymph nd surg (1998-2002)                   28030 non-null  object\n",
      " 70  RX Summ--Reg LN Examined (1998-2002)                     28030 non-null  object\n",
      " 71  Time from diagnosis to treatment in days recode          28030 non-null  object\n",
      " 72  RX Summ--Systemic/Sur Seq (2007+)                        28030 non-null  object\n",
      " 73  LN Head and Neck Levels I-III Recode (2010+)             28030 non-null  object\n",
      " 74  LN Head and Neck Levels IV-V Recode (2010+)              28030 non-null  object\n",
      " 75  LN Head and Neck Levels VI-VII Recode (2010+)            28030 non-null  object\n",
      " 76  LN Head and Neck Other Recode (2010+)                    28030 non-null  object\n",
      " 77  Lymph Node Size Recode (2010+)                           28030 non-null  object\n",
      " 78  LN Positive Axillary Level I-II Recode (2010+)           28030 non-null  object\n",
      " 79  Major Vein Involvement Recode (2010+)                    28030 non-null  object\n",
      " 80  Measured Basal Diameter Recode (2010+)                   28030 non-null  object\n",
      " 81  Measured Thickness Recode (2010+)                        28030 non-null  object\n",
      " 82  Mitotic Rate Melanoma Recode (2010+)                     28030 non-null  object\n",
      " 83  Primary by international rules                           28030 non-null  object\n",
      " 84  SEER registry (with CA and GA as whole states)           28030 non-null  object\n",
      "dtypes: int64(8), object(77)\n",
      "memory usage: 18.2+ MB\n"
     ]
    },
    {
     "data": {
      "text/plain": "None"
     },
     "metadata": {},
     "output_type": "display_data"
    }
   ],
   "source": [
    "# Look at data header\n",
    "display(salivary_df.head())\n",
    "display(salivary_df.info())\n",
    "\n"
   ],
   "metadata": {
    "collapsed": false,
    "ExecuteTime": {
     "end_time": "2024-08-29T02:59:28.497436Z",
     "start_time": "2024-08-29T02:59:28.420902Z"
    }
   },
   "id": "7eba2fbea9e769ec"
  },
  {
   "cell_type": "code",
   "execution_count": null,
   "outputs": [],
   "source": [],
   "metadata": {
    "collapsed": false
   },
   "id": "285db094965f01e2"
  }
 ],
 "metadata": {
  "kernelspec": {
   "display_name": "Python 3",
   "language": "python",
   "name": "python3"
  },
  "language_info": {
   "codemirror_mode": {
    "name": "ipython",
    "version": 2
   },
   "file_extension": ".py",
   "mimetype": "text/x-python",
   "name": "python",
   "nbconvert_exporter": "python",
   "pygments_lexer": "ipython2",
   "version": "2.7.6"
  }
 },
 "nbformat": 4,
 "nbformat_minor": 5
}
